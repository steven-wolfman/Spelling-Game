{
 "cells": [
  {
   "cell_type": "code",
   "execution_count": 1,
   "metadata": {
    "collapsed": true
   },
   "outputs": [],
   "source": [
    "import nltk\n",
    "from nltk.corpus import wordnet as wn\n",
    "import itertools\n",
    "from typing import Callable, Tuple\n",
    "from nltk.corpus.reader.wordnet import Synset\n",
    "import unittest"
   ]
  },
  {
   "cell_type": "code",
   "execution_count": 2,
   "metadata": {
    "collapsed": false
   },
   "outputs": [
    {
     "name": "stderr",
     "output_type": "stream",
     "text": [
      "test_wn_exists (__main__.TestWNUtils) ... ok\n",
      "test_wn_sim (__main__.TestWNUtils) ... ok\n",
      "\n",
      "----------------------------------------------------------------------\n",
      "Ran 2 tests in 0.133s\n",
      "\n",
      "OK\n"
     ]
    },
    {
     "data": {
      "text/plain": [
       "<unittest.runner.TextTestResult run=2 errors=0 failures=0>"
      ]
     },
     "execution_count": 2,
     "metadata": {},
     "output_type": "execute_result"
    }
   ],
   "source": [
    "# Based on alexis's answer to http://stackoverflow.com/questions/30829382/check-the-similarity-between-two-words-with-nltk-with-python\n",
    "\n",
    "\n",
    "def wn_sim(w1: str, w2: str, metric: Callable[[Synset, Synset], float] = wn.wup_similarity) -> Tuple[float, Synset, Synset]:\n",
    "    \"\"\"\n",
    "    Find the pair of wordnet synsets corresponding to the given words that are most similar\n",
    "    according to the given metric. The result is the similarity followed--in order--by the\n",
    "    synsets chosen for w1 and w2.\n",
    "    \"\"\"\n",
    "    syns1 = wn.synsets(w1)\n",
    "    syns2 = wn.synsets(w2)\n",
    "    best = max((metric(s1, s2) or 0, s1, s2) for s1, s2 in itertools.product(syns1, syns2))\n",
    "    \n",
    "    return best\n",
    "\n",
    "def wn_exists(word: str) -> bool:\n",
    "    \"\"\"\n",
    "    Returns true if the word exists according to wordnet.\n",
    "    \"\"\"\n",
    "    return len(wn.synsets(word)) > 0\n",
    "\n",
    "class TestWNUtils(unittest.TestCase):\n",
    "    def test_wn_sim(self):\n",
    "        self.assertEqual(wn_sim('dog', 'cat', wn.wup_similarity), \n",
    "                         (0.8571428571428571, wn.synset('dog.n.01'), wn.synset('cat.n.01')))\n",
    "        self.assertEqual(wn_sim('dog', 'cat'), \n",
    "                         (0.8571428571428571, wn.synset('dog.n.01'), wn.synset('cat.n.01')))\n",
    "        \n",
    "    def test_wn_exists(self):\n",
    "        self.assertTrue(wn_exists('dog'))\n",
    "        self.assertTrue(wn_exists('flagging'))\n",
    "        self.assertFalse(wn_exists('plnsgi'))\n",
    "\n",
    "\n",
    "suite = unittest.TestLoader().loadTestsFromTestCase(TestWNUtils)\n",
    "unittest.TextTestRunner(verbosity=2).run(suite)"
   ]
  },
  {
   "cell_type": "code",
   "execution_count": 3,
   "metadata": {
    "collapsed": true
   },
   "outputs": [],
   "source": [
    "import random\n",
    "from typing import List, Tuple, TypeVar\n",
    "\n",
    "# From https://en.wikipedia.org/wiki/Letter_frequency#Relative_frequencies_of_letters_in_the_English_language\n",
    "letter_freqs = [\n",
    "    ('a', 8.167),\n",
    "    ('b', 1.492),\n",
    "    ('c', 2.782),\n",
    "    ('d', 4.253),\n",
    "    ('e', 12.702),\n",
    "    ('f', 2.228),\n",
    "    ('g', 2.015),\n",
    "    ('h', 6.094),\n",
    "    ('i', 6.966),\n",
    "    ('j', 0.153),\n",
    "    ('k', 0.772),\n",
    "    ('l', 4.025),\n",
    "    ('m', 2.406),\n",
    "    ('n', 6.749),\n",
    "    ('o', 7.507),\n",
    "    ('p', 1.929),\n",
    "    ('q', 0.095),\n",
    "    ('r', 5.987),\n",
    "    ('s', 6.327),\n",
    "    ('t', 9.056),\n",
    "    ('u', 2.758),\n",
    "    ('v', 0.978),\n",
    "    ('w', 2.360),\n",
    "    ('x', 0.150),\n",
    "    ('y', 1.974),\n",
    "    ('z', 0.074)]\n",
    "\n",
    "T = TypeVar('T')\n",
    "def select_by_prob(choices: List[Tuple[T, float]]) -> T:\n",
    "    \"\"\"\n",
    "    Choose one of the choices, respecting their frequencies (as percentages, i.e., intended to total to 100).\n",
    "    \n",
    "    Note: choices must be non-empty, and the frequency of the last entry is ignored and assumed to be 100 minus\n",
    "    the sum of the remaining entries.\n",
    "    \n",
    "    TODO: this would be more efficient using binary search if we made the probabilities into cumulative probabilities instead.\n",
    "    (Or, if needed, we could do this as a sort of Trie for faster performance.)\n",
    "    \"\"\"\n",
    "    num = random.random() * 100\n",
    "    mass_passed = choices[0][1]\n",
    "    index = 0\n",
    "    while index < len(choices) - 1 and mass_passed < num:\n",
    "        index += 1\n",
    "        mass_passed += choices[index][1]\n",
    "        \n",
    "    return choices[index][0]\n",
    "\n",
    "def select_letter() -> str:\n",
    "    \"\"\"\n",
    "    Select a letter respecting English letter frequencies.\n",
    "    \"\"\"\n",
    "    return select_by_prob(letter_freqs)"
   ]
  },
  {
   "cell_type": "code",
   "execution_count": 4,
   "metadata": {
    "collapsed": false
   },
   "outputs": [
    {
     "data": {
      "text/plain": [
       "0.0009999999999988907"
      ]
     },
     "execution_count": 4,
     "metadata": {},
     "output_type": "execute_result"
    }
   ],
   "source": [
    "# TESTING CODE for select_letter\n",
    "counts = {}\n",
    "for c in (select_letter() for i in range(10000)):\n",
    "    if c not in counts:\n",
    "        counts[c] = 0\n",
    "    counts[c] += 1\n",
    "\n",
    "total = sum(counts.values())\n",
    "for k in counts.keys():\n",
    "    counts[k] = 100.0 * counts[k] / total\n",
    "\n",
    "for (c, freq) in letter_freqs:\n",
    "    if c in counts:\n",
    "        counts[c] -= freq\n",
    "\n",
    "error = sum(counts.values())\n",
    "\n",
    "# error should be small!\n",
    "error"
   ]
  },
  {
   "cell_type": "code",
   "execution_count": 5,
   "metadata": {
    "collapsed": false
   },
   "outputs": [],
   "source": [
    "from ipywidgets import widgets\n",
    "from IPython.display import display\n",
    "\n",
    "def play(target_word):\n",
    "    \"\"\"\n",
    "    Gives a list of available letters and scores the\n",
    "    constructed word for how similar it is to the target word.\n",
    "    \"\"\"\n",
    "    letters = [select_letter().upper() for i in range(15)]\n",
    "    used_letters = []\n",
    "    unused_letters = letters[:]\n",
    "    \n",
    "    layout = widgets.HBox()\n",
    "    in_text = widgets.Text()\n",
    "    letters_text = widgets.HTML(disabled=True, value=' '.join(unused_letters))\n",
    "    valid = widgets.Valid(\n",
    "        value=wn_exists(''),\n",
    "    )\n",
    "    layout.children = [in_text, valid]\n",
    "    \n",
    "    def handle_submit(sender):\n",
    "        if valid.value:\n",
    "            print(wn_sim(in_text.value, target_word))\n",
    "    \n",
    "    def handle_trait_change(name, new):\n",
    "        assert(name == 'value')\n",
    "        \n",
    "        result = True\n",
    "        used_letters[:] = new\n",
    "        unused_letters[:] = letters[:]\n",
    "        for c in used_letters:\n",
    "            c = c.upper()\n",
    "            if c in unused_letters:\n",
    "                unused_letters.remove(c)\n",
    "            else:\n",
    "                result = False\n",
    "        \n",
    "        letters_text.value = ' '.join(unused_letters)\n",
    "        valid.value = result and wn_exists(new)\n",
    "    \n",
    "    in_text.on_trait_change(handle_trait_change, 'value')\n",
    "    in_text.on_submit(handle_submit)\n",
    "    display(layout)\n",
    "    display(letters_text)"
   ]
  },
  {
   "cell_type": "code",
   "execution_count": 6,
   "metadata": {
    "collapsed": false
   },
   "outputs": [
    {
     "name": "stdout",
     "output_type": "stream",
     "text": [
      "(0.8333333333333334, Synset('call_on_the_carpet.v.01'), Synset('attack.v.02'))\n",
      "(0.7, Synset('flood.n.05'), Synset('attack.n.06'))\n",
      "(0.7, Synset('beat.n.09'), Synset('attack.n.06'))\n",
      "(0.3333333333333333, Synset('noodle.n.01'), Synset('attack.n.08'))\n",
      "(0.3333333333333333, Synset('tar.v.01'), Synset('assail.v.01'))\n",
      "(0.3333333333333333, Synset('bean.v.01'), Synset('assail.v.01'))\n",
      "(0.6666666666666666, Synset('deal.n.08'), Synset('attack.n.02'))\n",
      "(0.3333333333333333, Synset('human_body.n.01'), Synset('attack.n.08'))\n",
      "(0.26666666666666666, Synset('ten.n.01'), Synset('fire.n.09'))\n",
      "(0.7, Synset('tear.n.04'), Synset('attack.n.06'))\n"
     ]
    }
   ],
   "source": [
    "play('attack')"
   ]
  }
 ],
 "metadata": {
  "kernelspec": {
   "display_name": "Python 3",
   "language": "python",
   "name": "python3"
  },
  "language_info": {
   "codemirror_mode": {
    "name": "ipython",
    "version": 3
   },
   "file_extension": ".py",
   "mimetype": "text/x-python",
   "name": "python",
   "nbconvert_exporter": "python",
   "pygments_lexer": "ipython3",
   "version": "3.5.1"
  }
 },
 "nbformat": 4,
 "nbformat_minor": 0
}
